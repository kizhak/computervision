{
 "cells": [
  {
   "cell_type": "code",
   "execution_count": 1,
   "metadata": {},
   "outputs": [
    {
     "name": "stdout",
     "output_type": "stream",
     "text": [
      "2.1.0\n"
     ]
    }
   ],
   "source": [
    "import matplotlib.pyplot as plt\n",
    "import tensorflow as tf\n",
    "print(tf.__version__)"
   ]
  },
  {
   "cell_type": "code",
   "execution_count": 2,
   "metadata": {},
   "outputs": [],
   "source": [
    "mnist = tf.keras.datasets.fashion_mnist"
   ]
  },
  {
   "cell_type": "code",
   "execution_count": 3,
   "metadata": {},
   "outputs": [],
   "source": [
    "(training_images, training_labels) ,  (test_images, test_labels) = mnist.load_data()"
   ]
  },
  {
   "cell_type": "code",
   "execution_count": 4,
   "metadata": {},
   "outputs": [
    {
     "name": "stdout",
     "output_type": "stream",
     "text": [
      "60000\n"
     ]
    }
   ],
   "source": [
    "print(len(training_labels))"
   ]
  },
  {
   "cell_type": "code",
   "execution_count": 5,
   "metadata": {},
   "outputs": [
    {
     "name": "stdout",
     "output_type": "stream",
     "text": [
      "9\n"
     ]
    },
    {
     "data": {
      "image/png": "[encoded data removed]",
      "text/plain": [
       "<Figure size 432x288 with 1 Axes>"
      ]
     },
     "metadata": {
      "needs_background": "light"
     },
     "output_type": "display_data"
    }
   ],
   "source": [
    "plt.imshow(training_images[0])\n",
    "print(training_labels[0])\n",
    "# print(training_images[0])"
   ]
  },
  {
   "cell_type": "code",
   "execution_count": 6,
   "metadata": {},
   "outputs": [],
   "source": [
    "#  If we are training a neural network, \n",
    "#for various reasons it's easier \n",
    "# if we treat all values as between 0 and 1, \n",
    "# a process called 'normalizing'\n",
    "training_images = training_images/255.0\n",
    "test_images = test_images/255.0"
   ]
  },
  {
   "cell_type": "code",
   "execution_count": 7,
   "metadata": {},
   "outputs": [],
   "source": [
    "# Sequential: That defines a SEQUENCE of layers in the neural network\n",
    "# Flatten just takes that square and turns it into a 1 dimensional set.\n",
    "# Flatten creates 28x28=784 neurons in the first layer\n",
    "# Dense: Adds a layer of neurons\n",
    "# Final layer neurons equal to number of classes\n",
    "model = tf.keras.models.Sequential([tf.keras.layers.Flatten(),\n",
    "                                    tf.keras.layers.Dense(512, activation=tf.nn.relu),\n",
    "                                    tf.keras.layers.Dense(256, activation=tf.nn.relu),\n",
    "                                    tf.keras.layers.Dense(10, activation=tf.nn.softmax)])"
   ]
  },
  {
   "cell_type": "code",
   "execution_count": 8,
   "metadata": {},
   "outputs": [],
   "source": [
    "model.compile(optimizer = 'adam',\n",
    "              loss = 'sparse_categorical_crossentropy',\n",
    "              metrics=['accuracy'])"
   ]
  },
  {
   "cell_type": "code",
   "execution_count": 9,
   "metadata": {},
   "outputs": [
    {
     "name": "stdout",
     "output_type": "stream",
     "text": [
      "Train on 60000 samples\n",
      "Epoch 1/100\n",
      "60000/60000 [==============================] - 4s 65us/sample - loss: 0.4670 - accuracy: 0.8309\n",
      "Epoch 2/100\n",
      "60000/60000 [==============================] - 4s 62us/sample - loss: 0.3597 - accuracy: 0.8682\n",
      "Epoch 3/100\n",
      "60000/60000 [==============================] - 4s 61us/sample - loss: 0.3213 - accuracy: 0.8814\n",
      "Epoch 4/100\n",
      "60000/60000 [==============================] - 4s 61us/sample - loss: 0.2968 - accuracy: 0.8895\n",
      "Epoch 5/100\n",
      "60000/60000 [==============================] - 4s 61us/sample - loss: 0.2791 - accuracy: 0.8950\n",
      "Epoch 6/100\n",
      "60000/60000 [==============================] - 4s 61us/sample - loss: 0.2632 - accuracy: 0.8991\n",
      "Epoch 7/100\n",
      "60000/60000 [==============================] - 4s 61us/sample - loss: 0.2504 - accuracy: 0.9057\n",
      "Epoch 8/100\n",
      "60000/60000 [==============================] - 4s 62us/sample - loss: 0.2397 - accuracy: 0.9095\n",
      "Epoch 9/100\n",
      "60000/60000 [==============================] - 4s 62us/sample - loss: 0.2304 - accuracy: 0.9122\n",
      "Epoch 10/100\n",
      "60000/60000 [==============================] - 4s 62us/sample - loss: 0.2204 - accuracy: 0.9151\n",
      "Epoch 11/100\n",
      "60000/60000 [==============================] - 4s 62us/sample - loss: 0.2110 - accuracy: 0.9192\n",
      "Epoch 12/100\n",
      "60000/60000 [==============================] - 4s 62us/sample - loss: 0.2032 - accuracy: 0.9228\n",
      "Epoch 13/100\n",
      "60000/60000 [==============================] - 4s 62us/sample - loss: 0.1966 - accuracy: 0.9259\n",
      "Epoch 14/100\n",
      "60000/60000 [==============================] - 4s 61us/sample - loss: 0.1898 - accuracy: 0.9270\n",
      "Epoch 15/100\n",
      "60000/60000 [==============================] - 4s 61us/sample - loss: 0.1790 - accuracy: 0.9314\n",
      "Epoch 16/100\n",
      "60000/60000 [==============================] - 4s 62us/sample - loss: 0.1767 - accuracy: 0.9320\n",
      "Epoch 17/100\n",
      "60000/60000 [==============================] - 4s 62us/sample - loss: 0.1715 - accuracy: 0.9334\n",
      "Epoch 18/100\n",
      "60000/60000 [==============================] - 4s 62us/sample - loss: 0.1637 - accuracy: 0.9363\n",
      "Epoch 19/100\n",
      "60000/60000 [==============================] - 4s 62us/sample - loss: 0.1589 - accuracy: 0.9373\n",
      "Epoch 20/100\n",
      "60000/60000 [==============================] - 4s 62us/sample - loss: 0.1565 - accuracy: 0.9395\n",
      "Epoch 21/100\n",
      "60000/60000 [==============================] - 4s 62us/sample - loss: 0.1486 - accuracy: 0.9425\n",
      "Epoch 22/100\n",
      "60000/60000 [==============================] - 4s 62us/sample - loss: 0.1449 - accuracy: 0.9439\n",
      "Epoch 23/100\n",
      "60000/60000 [==============================] - 4s 62us/sample - loss: 0.1443 - accuracy: 0.9443\n",
      "Epoch 24/100\n",
      "60000/60000 [==============================] - 4s 62us/sample - loss: 0.1381 - accuracy: 0.9467\n",
      "Epoch 25/100\n",
      "60000/60000 [==============================] - 4s 62us/sample - loss: 0.1344 - accuracy: 0.9488\n",
      "Epoch 26/100\n",
      "60000/60000 [==============================] - 4s 62us/sample - loss: 0.1324 - accuracy: 0.9495\n",
      "Epoch 27/100\n",
      "60000/60000 [==============================] - 4s 62us/sample - loss: 0.1290 - accuracy: 0.9508\n",
      "Epoch 28/100\n",
      "60000/60000 [==============================] - 4s 62us/sample - loss: 0.1221 - accuracy: 0.9518\n",
      "Epoch 29/100\n",
      "60000/60000 [==============================] - 4s 62us/sample - loss: 0.1221 - accuracy: 0.9533\n",
      "Epoch 30/100\n",
      "60000/60000 [==============================] - 4s 62us/sample - loss: 0.1197 - accuracy: 0.9534\n",
      "Epoch 31/100\n",
      "60000/60000 [==============================] - 4s 62us/sample - loss: 0.1135 - accuracy: 0.9567\n",
      "Epoch 32/100\n",
      "60000/60000 [==============================] - 4s 62us/sample - loss: 0.1116 - accuracy: 0.9573\n",
      "Epoch 33/100\n",
      "60000/60000 [==============================] - 4s 62us/sample - loss: 0.1127 - accuracy: 0.9571\n",
      "Epoch 34/100\n",
      "60000/60000 [==============================] - 4s 62us/sample - loss: 0.1094 - accuracy: 0.9585\n",
      "Epoch 35/100\n",
      "60000/60000 [==============================] - 4s 62us/sample - loss: 0.1014 - accuracy: 0.9611\n",
      "Epoch 36/100\n",
      "60000/60000 [==============================] - 4s 62us/sample - loss: 0.1045 - accuracy: 0.9595\n",
      "Epoch 37/100\n",
      "60000/60000 [==============================] - 4s 62us/sample - loss: 0.1001 - accuracy: 0.9619\n",
      "Epoch 38/100\n",
      "60000/60000 [==============================] - 4s 62us/sample - loss: 0.0994 - accuracy: 0.9616\n",
      "Epoch 39/100\n",
      "60000/60000 [==============================] - 4s 62us/sample - loss: 0.1016 - accuracy: 0.9610\n",
      "Epoch 40/100\n",
      "60000/60000 [==============================] - 4s 62us/sample - loss: 0.0955 - accuracy: 0.9643\n",
      "Epoch 41/100\n",
      "60000/60000 [==============================] - 4s 62us/sample - loss: 0.0909 - accuracy: 0.9662\n",
      "Epoch 42/100\n",
      "60000/60000 [==============================] - 4s 62us/sample - loss: 0.0911 - accuracy: 0.9647\n",
      "Epoch 43/100\n",
      "60000/60000 [==============================] - 4s 62us/sample - loss: 0.0907 - accuracy: 0.9658\n",
      "Epoch 44/100\n",
      "60000/60000 [==============================] - 4s 62us/sample - loss: 0.0876 - accuracy: 0.9669\n",
      "Epoch 45/100\n",
      "60000/60000 [==============================] - 4s 62us/sample - loss: 0.0863 - accuracy: 0.9673\n",
      "Epoch 46/100\n",
      "60000/60000 [==============================] - 4s 62us/sample - loss: 0.0857 - accuracy: 0.9681\n",
      "Epoch 47/100\n",
      "60000/60000 [==============================] - 4s 62us/sample - loss: 0.0838 - accuracy: 0.9694\n",
      "Epoch 48/100\n",
      "60000/60000 [==============================] - 4s 62us/sample - loss: 0.0821 - accuracy: 0.9679\n",
      "Epoch 49/100\n",
      "60000/60000 [==============================] - 4s 62us/sample - loss: 0.0813 - accuracy: 0.9691\n",
      "Epoch 50/100\n",
      "60000/60000 [==============================] - 4s 62us/sample - loss: 0.0790 - accuracy: 0.9704\n",
      "Epoch 51/100\n",
      "60000/60000 [==============================] - 4s 62us/sample - loss: 0.0780 - accuracy: 0.9713\n",
      "Epoch 52/100\n",
      "60000/60000 [==============================] - 4s 62us/sample - loss: 0.0744 - accuracy: 0.9720\n",
      "Epoch 53/100\n",
      "60000/60000 [==============================] - 4s 62us/sample - loss: 0.0728 - accuracy: 0.9722\n",
      "Epoch 54/100\n",
      "60000/60000 [==============================] - 4s 62us/sample - loss: 0.0759 - accuracy: 0.9714\n",
      "Epoch 55/100\n",
      "60000/60000 [==============================] - 4s 62us/sample - loss: 0.0688 - accuracy: 0.9742\n",
      "Epoch 56/100\n",
      "60000/60000 [==============================] - 4s 62us/sample - loss: 0.0748 - accuracy: 0.9730\n",
      "Epoch 57/100\n",
      "60000/60000 [==============================] - 4s 62us/sample - loss: 0.0724 - accuracy: 0.9733\n",
      "Epoch 58/100\n",
      "60000/60000 [==============================] - 4s 62us/sample - loss: 0.0672 - accuracy: 0.9750\n",
      "Epoch 59/100\n",
      "60000/60000 [==============================] - 4s 62us/sample - loss: 0.0729 - accuracy: 0.9731\n",
      "Epoch 60/100\n",
      "60000/60000 [==============================] - 4s 62us/sample - loss: 0.0720 - accuracy: 0.9734\n",
      "Epoch 61/100\n",
      "60000/60000 [==============================] - 4s 62us/sample - loss: 0.0653 - accuracy: 0.9755\n",
      "Epoch 62/100\n",
      "60000/60000 [==============================] - 4s 62us/sample - loss: 0.0653 - accuracy: 0.9757\n",
      "Epoch 63/100\n",
      "60000/60000 [==============================] - 4s 62us/sample - loss: 0.0658 - accuracy: 0.9755\n",
      "Epoch 64/100\n",
      "60000/60000 [==============================] - 4s 62us/sample - loss: 0.0607 - accuracy: 0.9773\n",
      "Epoch 65/100\n",
      "60000/60000 [==============================] - 4s 62us/sample - loss: 0.0600 - accuracy: 0.9774\n",
      "Epoch 66/100\n",
      "60000/60000 [==============================] - 4s 62us/sample - loss: 0.0648 - accuracy: 0.9761\n",
      "Epoch 67/100\n",
      "60000/60000 [==============================] - 4s 61us/sample - loss: 0.0623 - accuracy: 0.9769\n",
      "Epoch 68/100\n",
      "60000/60000 [==============================] - 4s 62us/sample - loss: 0.0591 - accuracy: 0.9778\n",
      "Epoch 69/100\n",
      "60000/60000 [==============================] - 4s 62us/sample - loss: 0.0689 - accuracy: 0.9759\n",
      "Epoch 70/100\n",
      "60000/60000 [==============================] - 4s 62us/sample - loss: 0.0623 - accuracy: 0.9779\n",
      "Epoch 71/100\n",
      "60000/60000 [==============================] - 4s 64us/sample - loss: 0.0588 - accuracy: 0.9799\n",
      "Epoch 72/100\n",
      "60000/60000 [==============================] - 4s 62us/sample - loss: 0.0578 - accuracy: 0.9787\n",
      "Epoch 73/100\n",
      "60000/60000 [==============================] - 4s 64us/sample - loss: 0.0582 - accuracy: 0.9792\n",
      "Epoch 74/100\n",
      "60000/60000 [==============================] - 4s 61us/sample - loss: 0.0559 - accuracy: 0.9797\n",
      "Epoch 75/100\n",
      "60000/60000 [==============================] - 4s 62us/sample - loss: 0.0536 - accuracy: 0.9799\n",
      "Epoch 76/100\n"
     ]
    },
    {
     "name": "stdout",
     "output_type": "stream",
     "text": [
      "60000/60000 [==============================] - 4s 66us/sample - loss: 0.0581 - accuracy: 0.9788\n",
      "Epoch 77/100\n",
      "60000/60000 [==============================] - 4s 64us/sample - loss: 0.0553 - accuracy: 0.9804\n",
      "Epoch 78/100\n",
      "60000/60000 [==============================] - 4s 64us/sample - loss: 0.0536 - accuracy: 0.9803\n",
      "Epoch 79/100\n",
      "60000/60000 [==============================] - 4s 64us/sample - loss: 0.0531 - accuracy: 0.9811\n",
      "Epoch 80/100\n",
      "60000/60000 [==============================] - 4s 64us/sample - loss: 0.0524 - accuracy: 0.9815\n",
      "Epoch 81/100\n",
      "60000/60000 [==============================] - 4s 64us/sample - loss: 0.0542 - accuracy: 0.9803\n",
      "Epoch 82/100\n",
      "60000/60000 [==============================] - 4s 62us/sample - loss: 0.0533 - accuracy: 0.9807\n",
      "Epoch 83/100\n",
      "60000/60000 [==============================] - 4s 61us/sample - loss: 0.0530 - accuracy: 0.9808\n",
      "Epoch 84/100\n",
      "60000/60000 [==============================] - 4s 61us/sample - loss: 0.0551 - accuracy: 0.9812\n",
      "Epoch 85/100\n",
      "60000/60000 [==============================] - 4s 61us/sample - loss: 0.0528 - accuracy: 0.9811\n",
      "Epoch 86/100\n",
      "60000/60000 [==============================] - 4s 61us/sample - loss: 0.0466 - accuracy: 0.9828\n",
      "Epoch 87/100\n",
      "60000/60000 [==============================] - 4s 61us/sample - loss: 0.0500 - accuracy: 0.9824\n",
      "Epoch 88/100\n",
      "60000/60000 [==============================] - 4s 61us/sample - loss: 0.0492 - accuracy: 0.9822\n",
      "Epoch 89/100\n",
      "60000/60000 [==============================] - 4s 61us/sample - loss: 0.0496 - accuracy: 0.9820\n",
      "Epoch 90/100\n",
      "60000/60000 [==============================] - 4s 61us/sample - loss: 0.0446 - accuracy: 0.9838\n",
      "Epoch 91/100\n",
      "60000/60000 [==============================] - 4s 61us/sample - loss: 0.0480 - accuracy: 0.9826\n",
      "Epoch 92/100\n",
      "60000/60000 [==============================] - 4s 61us/sample - loss: 0.0533 - accuracy: 0.9815\n",
      "Epoch 93/100\n",
      "60000/60000 [==============================] - 4s 61us/sample - loss: 0.0515 - accuracy: 0.9822\n",
      "Epoch 94/100\n",
      "60000/60000 [==============================] - 4s 61us/sample - loss: 0.0488 - accuracy: 0.9832\n",
      "Epoch 95/100\n",
      "60000/60000 [==============================] - 4s 61us/sample - loss: 0.0467 - accuracy: 0.9838\n",
      "Epoch 96/100\n",
      "60000/60000 [==============================] - 4s 61us/sample - loss: 0.0466 - accuracy: 0.9834\n",
      "Epoch 97/100\n",
      "60000/60000 [==============================] - 4s 61us/sample - loss: 0.0526 - accuracy: 0.9831\n",
      "Epoch 98/100\n",
      "60000/60000 [==============================] - 4s 61us/sample - loss: 0.0416 - accuracy: 0.9858\n",
      "Epoch 99/100\n",
      "60000/60000 [==============================] - 4s 61us/sample - loss: 0.0502 - accuracy: 0.9835\n",
      "Epoch 100/100\n",
      "60000/60000 [==============================] - 4s 61us/sample - loss: 0.0402 - accuracy: 0.9861\n"
     ]
    }
   ],
   "source": [
    "history=model.fit(training_images, training_labels, epochs=100)"
   ]
  },
  {
   "cell_type": "code",
   "execution_count": 10,
   "metadata": {},
   "outputs": [
    {
     "data": {
      "image/png": "[encoded data removed]",
      "text/plain": [
       "<Figure size 432x288 with 1 Axes>"
      ]
     },
     "metadata": {
      "needs_background": "light"
     },
     "output_type": "display_data"
    }
   ],
   "source": [
    "plt.plot(history.history['accuracy'])\n",
    "plt.plot(history.history['loss'])\n",
    "plt.xlabel('Epoch')\n",
    "plt.ylabel('Accuracy')\n",
    "plt.title('Model accuracy')\n",
    "plt.legend(['Accuracy','Loss'], loc='best')\n",
    "plt.show()\n",
    "#valid locations are:\n",
    "#right, center left, upper right, lower right\n",
    "# best, center, lower left, center right\n",
    "# upper left, upper center, lower center"
   ]
  },
  {
   "cell_type": "code",
   "execution_count": 11,
   "metadata": {},
   "outputs": [
    {
     "name": "stdout",
     "output_type": "stream",
     "text": [
      "10000/10000 [==============================] - 0s 27us/sample - loss: 1.1308 - accuracy: 0.8958\n"
     ]
    },
    {
     "data": {
      "text/plain": [
       "[1.130754396264255, 0.8958]"
      ]
     },
     "execution_count": 11,
     "metadata": {},
     "output_type": "execute_result"
    }
   ],
   "source": [
    "model.evaluate(test_images, test_labels)"
   ]
  },
  {
   "cell_type": "code",
   "execution_count": 12,
   "metadata": {},
   "outputs": [],
   "source": [
    "classifications = model.predict(test_images)"
   ]
  },
  {
   "cell_type": "code",
   "execution_count": 13,
   "metadata": {},
   "outputs": [
    {
     "name": "stdout",
     "output_type": "stream",
     "text": [
      "[0.0000000e+00 0.0000000e+00 8.5535858e-38 0.0000000e+00 0.0000000e+00\n",
      " 4.7960882e-26 0.0000000e+00 2.9413573e-18 0.0000000e+00 1.0000000e+00]\n",
      "9\n"
     ]
    }
   ],
   "source": [
    "print(classifications[0])\n",
    "print(test_labels[0])"
   ]
  },
  {
   "cell_type": "code",
   "execution_count": 14,
   "metadata": {},
   "outputs": [],
   "source": [
    "#dir(history.history.keys)"
   ]
  },
  {
   "cell_type": "code",
   "execution_count": 15,
   "metadata": {},
   "outputs": [],
   "source": [
    "#print(history.history)"
   ]
  },
  {
   "cell_type": "code",
   "execution_count": null,
   "metadata": {},
   "outputs": [],
   "source": []
  },
  {
   "cell_type": "code",
   "execution_count": null,
   "metadata": {},
   "outputs": [],
   "source": []
  }
 ],
 "metadata": {
  "kernelspec": {
   "display_name": "Python 3",
   "language": "python",
   "name": "python3"
  },
  "language_info": {
   "codemirror_mode": {
    "name": "ipython",
    "version": 3
   },
   "file_extension": ".py",
   "mimetype": "text/x-python",
   "name": "python",
   "nbconvert_exporter": "python",
   "pygments_lexer": "ipython3",
   "version": "3.7.7"
  }
 },
 "nbformat": 4,
 "nbformat_minor": 4
}
